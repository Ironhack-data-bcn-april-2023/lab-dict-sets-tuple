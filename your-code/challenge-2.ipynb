{
 "cells": [
  {
   "cell_type": "markdown",
   "metadata": {},
   "source": [
    "## Challenge 2: Sets\n",
    "\n",
    "There are a lot to learn about Python Sets and the information presented in the lesson is limited due to its length. To learn Python Sets in depth you are strongly encouraged to review the W3Schools tutorial on [Python Sets Examples and Methods](https://www.w3schools.com/python/python_sets.asp) before you work on this lab. Some difficult questions in this lab have their solutions in the W3Schools tutorial.\n",
    "\n",
    "#### First, import the Python `random` library."
   ]
  },
  {
   "cell_type": "code",
   "execution_count": 3,
   "metadata": {},
   "outputs": [],
   "source": [
    "import random"
   ]
  },
  {
   "cell_type": "markdown",
   "metadata": {},
   "source": [
    "⚠️ Did you get: module not found? Try, in a cell: <br>\n",
    "`!pip install random`<br>\n",
    "`import random`"
   ]
  },
  {
   "cell_type": "markdown",
   "metadata": {},
   "source": [
    "#### In the cell below, create a list named `sample_list_1` with 80 random values. \n",
    "\n",
    "Requirements:\n",
    "\n",
    "* Each value is an integer falling between 0 and 100.\n",
    "* Each value in the list is unique.\n",
    "\n",
    "Print `sample_list_1` to review its values\n",
    "\n",
    "*Hint: use `random.sample` ([reference](https://docs.python.org/3/library/random.html#random.sample)).*"
   ]
  },
  {
   "cell_type": "code",
   "execution_count": 4,
   "metadata": {},
   "outputs": [
    {
     "name": "stdout",
     "output_type": "stream",
     "text": [
      "[91, 17, 61, 93, 11, 38, 20, 72, 73, 56, 47, 1, 98, 70, 62, 84, 27, 52, 23, 77, 99, 96, 26, 39, 3, 71, 22, 31, 82, 9, 78, 51, 35, 64, 80, 33, 95, 12, 43, 4, 34, 15, 87, 10, 42, 45, 13, 40, 7, 79, 8, 25, 49, 6, 89, 68, 18, 76, 37, 65, 55, 88, 44, 28, 32, 46, 2, 5, 75, 16, 29, 90, 100, 30, 69, 50, 53, 57, 0, 24]\n"
     ]
    }
   ],
   "source": [
    "# Your code here\n",
    "import random\n",
    "\n",
    "\n",
    "sample_list_1 = random.sample(range(101), 80)\n",
    "\n",
    "\n",
    "print(sample_list_1)\n"
   ]
  },
  {
   "cell_type": "markdown",
   "metadata": {},
   "source": [
    "#### Convert `sample_list_1` to a set called `set1`. Print the length of the set. Is its length still 80?"
   ]
  },
  {
   "cell_type": "code",
   "execution_count": 21,
   "metadata": {},
   "outputs": [
    {
     "name": "stdout",
     "output_type": "stream",
     "text": [
      "{0, 1, 2, 3, 4, 5, 6, 7, 8, 9, 10, 11, 12, 13, 15, 16, 17, 18, 20, 22, 23, 24, 25, 26, 27, 28, 29, 30, 31, 32, 33, 34, 35, 37, 38, 39, 40, 42, 43, 44, 45, 46, 47, 49, 50, 51, 52, 53, 55, 56, 57, 61, 62, 64, 65, 68, 69, 70, 71, 72, 73, 75, 76, 77, 78, 79, 80, 82, 84, 87, 88, 89, 90, 91, 93, 95, 96, 98, 99, 100}\n"
     ]
    },
    {
     "data": {
      "text/plain": [
       "80"
      ]
     },
     "execution_count": 21,
     "metadata": {},
     "output_type": "execute_result"
    }
   ],
   "source": [
    "# Your code here\n",
    "sample_list_1 = [91, 17, 61, 93, 11, 38, 20, 72, 73, 56, 47, 1, 98, 70, 62, 84, 27, 52, 23, 77, 99, 96, 26, 39, 3, 71, 22, 31, 82, 9, 78, 51, 35, 64, 80, 33, 95, 12, 43, 4, 34, 15, 87, 10, 42, 45, 13, 40, 7, 79, 8, 25, 49, 6, 89, 68, 18, 76, 37, 65, 55, 88, 44, 28, 32, 46, 2, 5, 75, 16, 29, 90, 100, 30, 69, 50, 53, 57, 0, 24]\n",
    "set1 = set(sample_list_1)\n",
    "print(set1)\n",
    "len(set1)"
   ]
  },
  {
   "cell_type": "markdown",
   "metadata": {},
   "source": [
    "#### Create another list named `sample_list_2` with 80 random values.\n",
    "\n",
    "Requirements:\n",
    "\n",
    "* Each value is an integer falling between 0 and 100.\n",
    "* The values in the list don't have to be unique.\n",
    "\n",
    "*Hint: Use a FOR loop.*"
   ]
  },
  {
   "cell_type": "code",
   "execution_count": 12,
   "metadata": {},
   "outputs": [
    {
     "name": "stdout",
     "output_type": "stream",
     "text": [
      "[38, 77, 68, 97, 87, 69, 67, 21, 68, 13, 86, 10, 76, 12, 86, 47, 34, 89, 9, 97, 5, 56, 59, 40, 6, 70, 39, 58, 88, 49, 46, 4, 38, 83, 9, 79, 86, 20, 47, 4, 4, 9, 48, 26, 79, 85, 75, 95, 17, 43, 54, 6, 96, 40, 12, 65, 32, 65, 15, 41, 1, 77, 99, 47, 31, 62, 89, 53, 18, 79, 6, 38, 21, 29, 44, 9, 7, 52, 21, 60]\n"
     ]
    }
   ],
   "source": [
    "# Your code here\n",
    "\n",
    "sample_list_2 = [random.randint(0, 100) for i in range(80)]\n",
    "\n",
    "\n",
    "print(sample_list_2)\n"
   ]
  },
  {
   "cell_type": "markdown",
   "metadata": {},
   "source": [
    "#### Convert `sample_list_2` to a set called `set2`. Print the length of the set. Is its length still 80?"
   ]
  },
  {
   "cell_type": "code",
   "execution_count": 20,
   "metadata": {},
   "outputs": [
    {
     "name": "stdout",
     "output_type": "stream",
     "text": [
      "{1, 4, 5, 6, 7, 9, 10, 12, 13, 15, 17, 18, 20, 21, 26, 29, 31, 32, 34, 38, 39, 40, 41, 43, 44, 46, 47, 48, 49, 52, 53, 54, 56, 58, 59, 60, 62, 65, 67, 68, 69, 70, 75, 76, 77, 79, 83, 85, 86, 87, 88, 89, 95, 96, 97, 99}\n"
     ]
    },
    {
     "data": {
      "text/plain": [
       "56"
      ]
     },
     "execution_count": 20,
     "metadata": {},
     "output_type": "execute_result"
    }
   ],
   "source": [
    "# Your code here\n",
    "sample_list_2 = [38, 77, 68, 97, 87, 69, 67, 21, 68, 13, 86, 10, 76, 12, 86, 47, 34, 89, 9, 97, 5, 56, 59, 40, 6, 70, 39, 58, 88, 49, 46, 4, 38, 83, 9, 79, 86, 20, 47, 4, 4, 9, 48, 26, 79, 85, 75, 95, 17, 43, 54, 6, 96, 40, 12, 65, 32, 65, 15, 41, 1, 77, 99, 47, 31, 62, 89, 53, 18, 79, 6, 38, 21, 29, 44, 9, 7, 52, 21, 60]\n",
    "set2 = set(sample_list_2)\n",
    "print(set2)\n",
    "len(set2)\n"
   ]
  },
  {
   "cell_type": "markdown",
   "metadata": {},
   "source": [
    "#### Identify the elements present in `set1` but not in `set2`. Assign the elements to a new set named `set3`."
   ]
  },
  {
   "cell_type": "code",
   "execution_count": 22,
   "metadata": {},
   "outputs": [
    {
     "name": "stdout",
     "output_type": "stream",
     "text": [
      "{0, 2, 3, 8, 11, 16, 22, 23, 24, 25, 27, 28, 30, 33, 35, 37, 42, 45, 50, 51, 55, 57, 61, 64, 71, 72, 73, 78, 80, 82, 84, 90, 91, 93, 98, 100}\n"
     ]
    }
   ],
   "source": [
    "# Your code here\n",
    "\n",
    "set3 = set1.difference(set2)\n",
    "print(set3)"
   ]
  },
  {
   "cell_type": "markdown",
   "metadata": {},
   "source": [
    "#### Identify the elements present in `set2` but not in `set1`. Assign the elements to a new set named `set4`."
   ]
  },
  {
   "cell_type": "code",
   "execution_count": 23,
   "metadata": {},
   "outputs": [
    {
     "name": "stdout",
     "output_type": "stream",
     "text": [
      "{97, 67, 41, 48, 83, 21, 54, 85, 86, 58, 59, 60}\n"
     ]
    }
   ],
   "source": [
    "# Your code here\n",
    "set4 = set2.difference(set1)\n",
    "print(set4)"
   ]
  },
  {
   "cell_type": "markdown",
   "metadata": {},
   "source": [
    "#### Now Identify the elements shared between `set1` and `set2`. Assign the elements to a new set named `set5`."
   ]
  },
  {
   "cell_type": "code",
   "execution_count": 26,
   "metadata": {},
   "outputs": [
    {
     "name": "stdout",
     "output_type": "stream",
     "text": [
      "{1, 4, 5, 6, 7, 9, 10, 12, 13, 15, 17, 18, 20, 26, 29, 31, 32, 34, 38, 39, 40, 43, 44, 46, 47, 49, 52, 53, 56, 62, 65, 68, 69, 70, 75, 76, 77, 79, 87, 88, 89, 95, 96, 99}\n"
     ]
    }
   ],
   "source": [
    "# Your code here\n",
    "set5 = set1.intersection(set2)\n",
    "print(set5)"
   ]
  },
  {
   "cell_type": "markdown",
   "metadata": {},
   "source": [
    "#### What is the relationship among the following values:\n",
    "\n",
    "* len(set1)\n",
    "* len(set2)\n",
    "* len(set3)\n",
    "* len(set4)\n",
    "* len(set5)\n",
    "\n",
    "Use a math formula to represent that relationship. Test your formula with Python code. Eg.: \n",
    "\n",
    "- my age is 30\n",
    "- my son is 10\n",
    "- my dad's twice my age\n",
    "- my grandmother is three times my age minus my son's_age\n",
    "\n",
    "\n",
    "A formula relating all these values would be:\n",
    "\n",
    "`my_grandmother = my_age + my_dad's_age - my_sons_age`\n",
    "\n",
    "Does this evaluate to True or to False?"
   ]
  },
  {
   "cell_type": "code",
   "execution_count": 36,
   "metadata": {},
   "outputs": [
    {
     "data": {
      "text/plain": [
       "True"
      ]
     },
     "execution_count": 36,
     "metadata": {},
     "output_type": "execute_result"
    }
   ],
   "source": [
    "# Your code here\n",
    "\n",
    "len(set1) == len(set3) + len(set5)\n",
    "len(set2) == len(set4) + len(set5)"
   ]
  },
  {
   "cell_type": "markdown",
   "metadata": {},
   "source": [
    "#### Create an empty set called `set6`."
   ]
  },
  {
   "cell_type": "code",
   "execution_count": 44,
   "metadata": {},
   "outputs": [
    {
     "name": "stdout",
     "output_type": "stream",
     "text": [
      "set()\n"
     ]
    }
   ],
   "source": [
    "# Your code here\n",
    "set6 = set()\n",
    "print(set6)"
   ]
  },
  {
   "cell_type": "markdown",
   "metadata": {},
   "source": [
    "#### Add `set3` and `set5` to `set6` using the Python Set `update` method."
   ]
  },
  {
   "cell_type": "code",
   "execution_count": 39,
   "metadata": {},
   "outputs": [
    {
     "name": "stdout",
     "output_type": "stream",
     "text": [
      "{0, 1, 2, 3, 4, 5, 6, 7, 8, 9, 10, 11, 12, 13, 15, 16, 17, 18, 20, 22, 23, 24, 25, 26, 27, 28, 29, 30, 31, 32, 33, 34, 35, 37, 38, 39, 40, 42, 43, 44, 45, 46, 47, 49, 50, 51, 52, 53, 55, 56, 57, 61, 62, 64, 65, 68, 69, 70, 71, 72, 73, 75, 76, 77, 78, 79, 80, 82, 84, 87, 88, 89, 90, 91, 93, 95, 96, 98, 99, 100}\n"
     ]
    }
   ],
   "source": [
    "# Your code here\n",
    "\n",
    "set3 = {0, 2, 3, 8, 11, 16, 22, 23, 24, 25, 27, 28, 30, 33, 35, 37, 42, 45, 50, 51, 55, 57, 61, 64, 71, 72, 73, 78, 80, 82, 84, 90, 91, 93, 98, 100}\n",
    "set5 = {1, 4, 5, 6, 7, 9, 10, 12, 13, 15, 17, 18, 20, 26, 29, 31, 32, 34, 38, 39, 40, 43, 44, 46, 47, 49, 52, 53, 56, 62, 65, 68, 69, 70, 75, 76, 77, 79, 87, 88, 89, 95, 96, 99}\n",
    "set6 = set()\n",
    "\n",
    "set6.update(set3, set5)\n",
    "print(set6)\n",
    "\n"
   ]
  },
  {
   "cell_type": "markdown",
   "metadata": {},
   "source": [
    "#### Check if `set1` and `set6` are equal."
   ]
  },
  {
   "cell_type": "code",
   "execution_count": 40,
   "metadata": {},
   "outputs": [
    {
     "name": "stdout",
     "output_type": "stream",
     "text": [
      "set1 and set6 are equal\n"
     ]
    }
   ],
   "source": [
    "# Your code here\n",
    "\n",
    "\n",
    "if set1 == set6:\n",
    "    print(\"set1 and set6 are equal\")\n",
    "else:\n",
    "    print(\"set1 and set6 are not equal\")\n",
    "\n"
   ]
  },
  {
   "cell_type": "markdown",
   "metadata": {},
   "source": [
    "#### Check if `set1` contains `set2` using the Python Set `issubset` method. Then check if `set1` contains `set3`.*"
   ]
  },
  {
   "cell_type": "code",
   "execution_count": 42,
   "metadata": {},
   "outputs": [
    {
     "name": "stdout",
     "output_type": "stream",
     "text": [
      "set1 does not contain set2\n",
      "set1 contains set3\n"
     ]
    }
   ],
   "source": [
    "# Your code here\n",
    "if set2.issubset(set1):\n",
    "    print(\"set1 contains set2\")\n",
    "else:\n",
    "    print(\"set1 does not contain set2\")\n",
    "\n",
    "if set3.issubset(set1):\n",
    "    print(\"set1 contains set3\")\n",
    "else:\n",
    "    print(\"set1 does not contain set3\")\n",
    "    "
   ]
  },
  {
   "cell_type": "markdown",
   "metadata": {},
   "source": [
    "#### Using the Python Set `union` method, aggregate `set3`, `set4`, and `set5`. Then aggregate `set1` and `set2`. \n",
    "\n",
    "#### Check if the aggregated values are equal."
   ]
  },
  {
   "cell_type": "code",
   "execution_count": 43,
   "metadata": {},
   "outputs": [
    {
     "name": "stdout",
     "output_type": "stream",
     "text": [
      "{0, 1, 2, 3, 4, 5, 6, 7, 8, 9, 10, 11, 12, 13, 15, 16, 17, 18, 20, 21, 22, 23, 24, 25, 26, 27, 28, 29, 30, 31, 32, 33, 34, 35, 37, 38, 39, 40, 41, 42, 43, 44, 45, 46, 47, 48, 49, 50, 51, 52, 53, 54, 55, 56, 57, 58, 59, 60, 61, 62, 64, 65, 67, 68, 69, 70, 71, 72, 73, 75, 76, 77, 78, 79, 80, 82, 83, 84, 85, 86, 87, 88, 89, 90, 91, 93, 95, 96, 97, 98, 99, 100}\n",
      "{0, 1, 2, 3, 4, 5, 6, 7, 8, 9, 10, 11, 12, 13, 15, 16, 17, 18, 20, 21, 22, 23, 24, 25, 26, 27, 28, 29, 30, 31, 32, 33, 34, 35, 37, 38, 39, 40, 41, 42, 43, 44, 45, 46, 47, 48, 49, 50, 51, 52, 53, 54, 55, 56, 57, 58, 59, 60, 61, 62, 64, 65, 67, 68, 69, 70, 71, 72, 73, 75, 76, 77, 78, 79, 80, 82, 83, 84, 85, 86, 87, 88, 89, 90, 91, 93, 95, 96, 97, 98, 99, 100}\n"
     ]
    }
   ],
   "source": [
    "# Your code here\n",
    "\n",
    "\n",
    "set345 = set3.union(set4, set5)\n",
    "set12 = set1.union(set2)\n",
    "\n",
    "print(set345)  \n",
    "print(set12)   \n",
    "\n",
    "\n",
    "\n"
   ]
  },
  {
   "cell_type": "markdown",
   "metadata": {},
   "source": [
    "#### Using the `pop` method, remove the first element from `set1`."
   ]
  },
  {
   "cell_type": "code",
   "execution_count": 45,
   "metadata": {},
   "outputs": [
    {
     "name": "stdout",
     "output_type": "stream",
     "text": [
      "Removed element: 0\n",
      "New set1: {1, 2, 3, 4, 5, 6, 7, 8, 9, 10, 11, 12, 13, 15, 16, 17, 18, 20, 22, 23, 24, 25, 26, 27, 28, 29, 30, 31, 32, 33, 34, 35, 37, 38, 39, 40, 42, 43, 44, 45, 46, 47, 49, 50, 51, 52, 53, 55, 56, 57, 61, 62, 64, 65, 68, 69, 70, 71, 72, 73, 75, 76, 77, 78, 79, 80, 82, 84, 87, 88, 89, 90, 91, 93, 95, 96, 98, 99, 100}\n"
     ]
    }
   ],
   "source": [
    "# Your code here\n",
    "\n",
    "removed_element = set1.pop()\n",
    "\n",
    "print(\"Removed element:\", removed_element)\n",
    "print(\"New set1:\", set1)\n",
    "\n"
   ]
  },
  {
   "cell_type": "markdown",
   "metadata": {},
   "source": [
    "#### Remove every element in the following list from `set1` if they are present in the set. Print the remaining elements.\n",
    "\n",
    "```\n",
    "list_to_remove = [1, 9, 11, 19, 21, 29, 31, 39, 41, 49, 51, 59, 61, 69, 71, 79, 81, 89, 91, 99]\n",
    "```"
   ]
  },
  {
   "cell_type": "code",
   "execution_count": 50,
   "metadata": {},
   "outputs": [
    {
     "name": "stdout",
     "output_type": "stream",
     "text": [
      "Remaining elements in set1: {2, 3, 4, 5, 6, 7, 8, 10, 12, 13, 15, 16, 17, 18, 20, 22, 23, 24, 25, 26, 27, 28, 30, 32, 33, 34, 35, 37, 38, 40, 42, 43, 44, 45, 46, 47, 50, 52, 53, 55, 56, 57, 62, 64, 65, 68, 70, 72, 73, 75, 76, 77, 78, 80, 82, 84, 87, 88, 90, 93, 95, 96, 98, 100}\n"
     ]
    }
   ],
   "source": [
    "# Your code here\n",
    "list_to_remove = [1, 9, 11, 19, 21, 29, 31, 39, 41, 49, 51, 59, 61, 69, 71, 79, 81, 89, 91, 99]\n",
    "\n",
    "for element in list_to_remove:\n",
    "    if element in set1:\n",
    "        set1.remove(element)\n",
    "        \n",
    "print(\"Remaining elements in set1:\", set1)"
   ]
  }
 ],
 "metadata": {
  "kernelspec": {
   "display_name": "Python 3 (ipykernel)",
   "language": "python",
   "name": "python3"
  },
  "language_info": {
   "codemirror_mode": {
    "name": "ipython",
    "version": 3
   },
   "file_extension": ".py",
   "mimetype": "text/x-python",
   "name": "python",
   "nbconvert_exporter": "python",
   "pygments_lexer": "ipython3",
   "version": "3.10.9"
  },
  "nbTranslate": {
   "displayLangs": [
    "en",
    "es"
   ],
   "hotkey": "alt-a",
   "langInMainMenu": true,
   "sourceLang": "es",
   "targetLang": "en",
   "useGoogleTranslate": true
  },
  "toc": {
   "base_numbering": 1,
   "nav_menu": {},
   "number_sections": true,
   "sideBar": true,
   "skip_h1_title": false,
   "title_cell": "Table of Contents",
   "title_sidebar": "Contents",
   "toc_cell": false,
   "toc_position": {},
   "toc_section_display": true,
   "toc_window_display": false
  }
 },
 "nbformat": 4,
 "nbformat_minor": 2
}
